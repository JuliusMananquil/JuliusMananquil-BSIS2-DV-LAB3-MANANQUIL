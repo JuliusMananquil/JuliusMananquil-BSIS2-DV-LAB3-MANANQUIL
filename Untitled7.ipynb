{
  "nbformat": 4,
  "nbformat_minor": 0,
  "metadata": {
    "colab": {
      "provenance": [],
      "authorship_tag": "ABX9TyPKJMC+Ebc4o7a6zotg0bXT",
      "include_colab_link": true
    },
    "kernelspec": {
      "name": "python3",
      "display_name": "Python 3"
    },
    "language_info": {
      "name": "python"
    }
  },
  "cells": [
    {
      "cell_type": "markdown",
      "metadata": {
        "id": "view-in-github",
        "colab_type": "text"
      },
      "source": [
        "<a href=\"https://colab.research.google.com/github/JuliusMananquil/JuliusMananquil-BSIS2-DV-LAB3-MANANQUIL/blob/main/Untitled7.ipynb\" target=\"_parent\"><img src=\"https://colab.research.google.com/assets/colab-badge.svg\" alt=\"Open In Colab\"/></a>"
      ]
    },
    {
      "cell_type": "code",
      "execution_count": 7,
      "metadata": {
        "colab": {
          "base_uri": "https://localhost:8080/"
        },
        "id": "O4rLbRfrc-4b",
        "outputId": "c317c8e6-4a8c-4463-f5c4-e81dfbb73bb9"
      },
      "outputs": [
        {
          "output_type": "stream",
          "name": "stdout",
          "text": [
            "Hello! Please enter your name: Julius\n",
            "Enter your age: 20\n",
            "Enter your weight (in kg): 70\n",
            "Enter your height (in cm): 170\n",
            "\n",
            "Julius, based on the information you provided:\n",
            "- Age: 20 years old\n",
            "- Weight: 70.0 kg\n",
            "- Height: 1.7 cm\n",
            "Your BMI is: 24.22\n",
            "Your BMI falls under the category of healthy weight.\n"
          ]
        }
      ],
      "source": [
        "name = input(\"Hello! Please enter your name: \")\n",
        "age = int(input(\"Enter your age: \"))\n",
        "weight = float(input(\"Enter your weight (in kg): \"))\n",
        "height = float(input(\"Enter your height (in cm): \"))\n",
        "\n",
        "# Convert height to centimeter\n",
        "height = height / 100\n",
        "\n",
        "\n",
        "\n",
        "# Calculate BMI\n",
        "bmi = weight / (height ** 2)\n",
        "\n",
        "# Round BMI to 2 decimal places\n",
        "bmi = round(bmi, 2)\n",
        "\n",
        "# Print results\n",
        "print(f\"\\n{name}, based on the information you provided:\")\n",
        "print(f\"- Age: {age} years old\")\n",
        "print(f\"- Weight: {weight} kg\")\n",
        "print(f\"- Height: {height} cm\")\n",
        "print(f\"Your BMI is: {bmi}\")\n",
        "\n",
        "# Interpret BMI\n",
        "if bmi < 18.5:\n",
        "    print(\"Your BMI falls under the category of underweight.\")\n",
        "elif bmi < 25:\n",
        "    print(\"Your BMI falls under the category of healthy weight.\")\n",
        "elif bmi < 30:\n",
        "    print(\"Your BMI falls under the category of overweight.\")\n",
        "else:\n",
        "    print(\"Your BMI falls under the category of obesity.\")"
      ]
    }
  ]
}